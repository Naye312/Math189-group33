{
 "cells": [
  {
   "cell_type": "code",
   "execution_count": 26,
   "metadata": {},
   "outputs": [],
   "source": [
    "import pandas as pd\n",
    "import numpy as np\n",
    "import re\n",
    "import matplotlib.pyplot as plt"
   ]
  },
  {
   "cell_type": "code",
   "execution_count": 6,
   "metadata": {},
   "outputs": [],
   "source": [
    "housing = pd.read_excel('clean_housing.xlsx')\n",
    "education = pd.read_excel('clean_education.xlsx')"
   ]
  },
  {
   "cell_type": "code",
   "execution_count": 13,
   "metadata": {},
   "outputs": [
    {
     "data": {
      "text/plain": [
       "region_name\n",
       "Bay Area                      18.696276\n",
       "Butte                         18.358014\n",
       "Central/Southeast Sierra      16.983391\n",
       "Monterey Bay                  20.007936\n",
       "North Coast                   19.637816\n",
       "Northeast Sierra              18.869800\n",
       "Northern Sacramento Valley    19.057349\n",
       "Sacramento Area               17.895334\n",
       "San Diego                     21.620399\n",
       "San Joaquin Valley            17.031642\n",
       "San Luis Obispo               17.020392\n",
       "Santa Barbara                 17.733070\n",
       "Shasta                        14.436083\n",
       "Southern California           20.568798\n",
       "Name: percent, dtype: float64"
      ]
     },
     "execution_count": 13,
     "metadata": {},
     "output_type": "execute_result"
    }
   ],
   "source": [
    "housing_percent = housing.groupby(\"region_name\")[\"percent\"].mean()\n",
    "housing_percent"
   ]
  },
  {
   "cell_type": "code",
   "execution_count": 15,
   "metadata": {},
   "outputs": [
    {
     "data": {
      "text/plain": [
       "region_name\n",
       "Bay Area                      41.161795\n",
       "Butte                         21.531943\n",
       "Central/Southeast Sierra      21.814115\n",
       "Monterey Bay                  28.898325\n",
       "North Coast                   21.423629\n",
       "Northeast Sierra              20.796532\n",
       "Northern Sacramento Valley    13.022114\n",
       "Sacramento Area               27.951700\n",
       "San Diego                     31.777172\n",
       "San Joaquin Valley            14.867877\n",
       "San Luis Obispo               30.294865\n",
       "Santa Barbara                 31.193394\n",
       "Shasta                        20.144705\n",
       "Southern California           27.681319\n",
       "Name: estimate, dtype: float64"
      ]
     },
     "execution_count": 15,
     "metadata": {},
     "output_type": "execute_result"
    }
   ],
   "source": [
    "education_estimate = education.groupby(\"region_name\")[\"estimate\"].mean()\n",
    "education_estimate"
   ]
  },
  {
   "cell_type": "code",
   "execution_count": 23,
   "metadata": {},
   "outputs": [
    {
     "data": {
      "text/html": [
       "<div>\n",
       "<style scoped>\n",
       "    .dataframe tbody tr th:only-of-type {\n",
       "        vertical-align: middle;\n",
       "    }\n",
       "\n",
       "    .dataframe tbody tr th {\n",
       "        vertical-align: top;\n",
       "    }\n",
       "\n",
       "    .dataframe thead th {\n",
       "        text-align: right;\n",
       "    }\n",
       "</style>\n",
       "<table border=\"1\" class=\"dataframe\">\n",
       "  <thead>\n",
       "    <tr style=\"text-align: right;\">\n",
       "      <th></th>\n",
       "      <th>housing_percent</th>\n",
       "      <th>education_estimate</th>\n",
       "    </tr>\n",
       "    <tr>\n",
       "      <th>region_name</th>\n",
       "      <th></th>\n",
       "      <th></th>\n",
       "    </tr>\n",
       "  </thead>\n",
       "  <tbody>\n",
       "    <tr>\n",
       "      <th>Bay Area</th>\n",
       "      <td>18.696276</td>\n",
       "      <td>41.161795</td>\n",
       "    </tr>\n",
       "    <tr>\n",
       "      <th>Butte</th>\n",
       "      <td>18.358014</td>\n",
       "      <td>21.531943</td>\n",
       "    </tr>\n",
       "    <tr>\n",
       "      <th>Central/Southeast Sierra</th>\n",
       "      <td>16.983391</td>\n",
       "      <td>21.814115</td>\n",
       "    </tr>\n",
       "    <tr>\n",
       "      <th>Monterey Bay</th>\n",
       "      <td>20.007936</td>\n",
       "      <td>28.898325</td>\n",
       "    </tr>\n",
       "    <tr>\n",
       "      <th>North Coast</th>\n",
       "      <td>19.637816</td>\n",
       "      <td>21.423629</td>\n",
       "    </tr>\n",
       "    <tr>\n",
       "      <th>Northeast Sierra</th>\n",
       "      <td>18.869800</td>\n",
       "      <td>20.796532</td>\n",
       "    </tr>\n",
       "    <tr>\n",
       "      <th>Northern Sacramento Valley</th>\n",
       "      <td>19.057349</td>\n",
       "      <td>13.022114</td>\n",
       "    </tr>\n",
       "    <tr>\n",
       "      <th>Sacramento Area</th>\n",
       "      <td>17.895334</td>\n",
       "      <td>27.951700</td>\n",
       "    </tr>\n",
       "    <tr>\n",
       "      <th>San Diego</th>\n",
       "      <td>21.620399</td>\n",
       "      <td>31.777172</td>\n",
       "    </tr>\n",
       "    <tr>\n",
       "      <th>San Joaquin Valley</th>\n",
       "      <td>17.031642</td>\n",
       "      <td>14.867877</td>\n",
       "    </tr>\n",
       "    <tr>\n",
       "      <th>San Luis Obispo</th>\n",
       "      <td>17.020392</td>\n",
       "      <td>30.294865</td>\n",
       "    </tr>\n",
       "    <tr>\n",
       "      <th>Santa Barbara</th>\n",
       "      <td>17.733070</td>\n",
       "      <td>31.193394</td>\n",
       "    </tr>\n",
       "    <tr>\n",
       "      <th>Shasta</th>\n",
       "      <td>14.436083</td>\n",
       "      <td>20.144705</td>\n",
       "    </tr>\n",
       "    <tr>\n",
       "      <th>Southern California</th>\n",
       "      <td>20.568798</td>\n",
       "      <td>27.681319</td>\n",
       "    </tr>\n",
       "  </tbody>\n",
       "</table>\n",
       "</div>"
      ],
      "text/plain": [
       "                            housing_percent  education_estimate\n",
       "region_name                                                    \n",
       "Bay Area                          18.696276           41.161795\n",
       "Butte                             18.358014           21.531943\n",
       "Central/Southeast Sierra          16.983391           21.814115\n",
       "Monterey Bay                      20.007936           28.898325\n",
       "North Coast                       19.637816           21.423629\n",
       "Northeast Sierra                  18.869800           20.796532\n",
       "Northern Sacramento Valley        19.057349           13.022114\n",
       "Sacramento Area                   17.895334           27.951700\n",
       "San Diego                         21.620399           31.777172\n",
       "San Joaquin Valley                17.031642           14.867877\n",
       "San Luis Obispo                   17.020392           30.294865\n",
       "Santa Barbara                     17.733070           31.193394\n",
       "Shasta                            14.436083           20.144705\n",
       "Southern California               20.568798           27.681319"
      ]
     },
     "execution_count": 23,
     "metadata": {},
     "output_type": "execute_result"
    }
   ],
   "source": [
    "estimation = pd.concat([housing_percent, education_estimate], axis=1).rename(columns={\"percent\": \"housing_percent\", \"estimate\": \"education_estimate\"})\n",
    "estimation"
   ]
  },
  {
   "cell_type": "code",
   "execution_count": 27,
   "metadata": {},
   "outputs": [
    {
     "data": {
      "text/plain": [
       "[<matplotlib.lines.Line2D at 0x133068490>]"
      ]
     },
     "execution_count": 27,
     "metadata": {},
     "output_type": "execute_result"
    },
    {
     "data": {
      "image/png": "[encoded data removed]",
      "text/plain": [
       "<Figure size 640x480 with 1 Axes>"
      ]
     },
     "metadata": {},
     "output_type": "display_data"
    }
   ],
   "source": [
    "plt.scatter(estimation[\"housing_percent\"], estimation[\"education_estimate\"])\n",
    "plt.xlabel(\"Housing Percent\")\n",
    "plt.ylabel(\"Education Estimate\")\n",
    "plt.title(\"Housing Percent vs Education Estimate\")\n",
    "z = np.polyfit(estimation[\"housing_percent\"], estimation[\"education_estimate\"], 1)\n",
    "p = np.poly1d(z)\n",
    "plt.plot(estimation[\"housing_percent\"],p(estimation[\"housing_percent\"]),\"r--\")"
   ]
  },
  {
   "cell_type": "code",
   "execution_count": null,
   "metadata": {},
   "outputs": [],
   "source": []
  }
 ],
 "metadata": {
  "kernelspec": {
   "display_name": "base",
   "language": "python",
   "name": "python3"
  },
  "language_info": {
   "codemirror_mode": {
    "name": "ipython",
    "version": 3
   },
   "file_extension": ".py",
   "mimetype": "text/x-python",
   "name": "python",
   "nbconvert_exporter": "python",
   "pygments_lexer": "ipython3",
   "version": "3.11.3"
  },
  "orig_nbformat": 4
 },
 "nbformat": 4,
 "nbformat_minor": 2
}
