{
 "cells": [
  {
   "cell_type": "code",
   "execution_count": 22,
   "metadata": {
    "scrolled": true
   },
   "outputs": [],
   "source": [
    "#!pip install pandas\n",
    "#!pip install numpy\n",
    "#!pip install openpyxl"
   ]
  },
  {
   "cell_type": "code",
   "execution_count": 3,
   "metadata": {},
   "outputs": [],
   "source": [
    "import pandas as pd\n",
    "import numpy as np\n",
    "import re"
   ]
  },
  {
   "cell_type": "code",
   "execution_count": 4,
   "metadata": {},
   "outputs": [],
   "source": [
    "def unicode_to_symbols(encoded_string):\n",
    "    pattern = re.compile(r'_x([0-9A-Fa-f]{4})_')\n",
    "    def replace_with_char(match):\n",
    "        # Convert the hexadecimal value to an integer, then to the corresponding Unicode character\n",
    "        return chr(int(match.group(1), 16))\n",
    "    # Replace all occurrences of encoded Unicode with their corresponding characters\n",
    "    return pattern.sub(replace_with_char, encoded_string)"
   ]
  },
  {
   "cell_type": "code",
   "execution_count": 5,
   "metadata": {},
   "outputs": [
    {
     "data": {
      "text/plain": [
       "'106'"
      ]
     },
     "execution_count": 5,
     "metadata": {},
     "output_type": "execute_result"
    }
   ],
   "source": [
    "unicode_to_symbols(\"_x0031_06\")"
   ]
  },
  {
   "cell_type": "code",
   "execution_count": 6,
   "metadata": {},
   "outputs": [
    {
     "name": "stderr",
     "output_type": "stream",
     "text": [
      "C:\\Users\\S\\anaconda3\\envs\\dsc80\\lib\\site-packages\\openpyxl\\styles\\stylesheet.py:226: UserWarning: Workbook contains no default style, apply openpyxl's default\n",
      "  warn(\"Workbook contains no default style, apply openpyxl's default\")\n"
     ]
    }
   ],
   "source": [
    "#import housing data\n",
    "housing_df = pd.read_excel('housing.xlsx')"
   ]
  },
  {
   "cell_type": "code",
   "execution_count": 7,
   "metadata": {},
   "outputs": [],
   "source": [
    "#import education data\n",
    "education_df = pd.read_excel('education.xlsx')"
   ]
  },
  {
   "cell_type": "code",
   "execution_count": 8,
   "metadata": {},
   "outputs": [
    {
     "data": {
      "text/plain": [
       "Index(['ind_id', 'ind_definition', 'reportyear', 'race_eth_code',\n",
       "       'race_eth_name', 'geotype', 'geotypevalue', 'geoname', 'county_name',\n",
       "       'county_fips', 'region_name', 'region_code', 'strata_one_code',\n",
       "       'strata_one_name', 'strata_two_code', 'strata_two_name', 'numerator',\n",
       "       'denominator', 'estimate', 'LL_95CI', 'UL_95CI', 'SE', 'RSE',\n",
       "       'CA_decile', 'CA_RR', 'version'],\n",
       "      dtype='object')"
      ]
     },
     "execution_count": 8,
     "metadata": {},
     "output_type": "execute_result"
    }
   ],
   "source": [
    "# check for column names\n",
    "housing_df.columns\n",
    "education_df.columns"
   ]
  },
  {
   "cell_type": "code",
   "execution_count": 9,
   "metadata": {},
   "outputs": [],
   "source": [
    "#filter down the columns into what we need\n",
    "new_housing_df = housing_df.get(['ind_id', 'ind_definition','percent','burden', 'geotype', 'income_level','geotypevalue', 'geoname', 'region_name','region_code'])"
   ]
  },
  {
   "cell_type": "code",
   "execution_count": 10,
   "metadata": {},
   "outputs": [],
   "source": [
    "# filter to include only >50% burden\n",
    "new_housing_df = new_housing_df[(new_housing_df['burden'] == '_x003E__x0020_50_x0025__x0020_of_x0020_monthly_x0020_household_x0020_income_x0020_consumed_x0020_by_x0020_monthly_x002C__x0020_selected_x002C__x0020_housing_x0020_costs')]"
   ]
  },
  {
   "cell_type": "code",
   "execution_count": 11,
   "metadata": {},
   "outputs": [
    {
     "data": {
      "text/html": [
       "<div>\n",
       "<style scoped>\n",
       "    .dataframe tbody tr th:only-of-type {\n",
       "        vertical-align: middle;\n",
       "    }\n",
       "\n",
       "    .dataframe tbody tr th {\n",
       "        vertical-align: top;\n",
       "    }\n",
       "\n",
       "    .dataframe thead th {\n",
       "        text-align: right;\n",
       "    }\n",
       "</style>\n",
       "<table border=\"1\" class=\"dataframe\">\n",
       "  <thead>\n",
       "    <tr style=\"text-align: right;\">\n",
       "      <th></th>\n",
       "      <th>ind_id</th>\n",
       "      <th>ind_definition</th>\n",
       "      <th>percent</th>\n",
       "      <th>burden</th>\n",
       "      <th>geotype</th>\n",
       "      <th>income_level</th>\n",
       "      <th>geotypevalue</th>\n",
       "      <th>geoname</th>\n",
       "      <th>region_name</th>\n",
       "      <th>region_code</th>\n",
       "    </tr>\n",
       "  </thead>\n",
       "  <tbody>\n",
       "    <tr>\n",
       "      <th>813</th>\n",
       "      <td>_x0031_06</td>\n",
       "      <td>Percent_x0020_of_x0020_households_x0020_spendi...</td>\n",
       "      <td>17.217629</td>\n",
       "      <td>_x003E__x0020_50_x0025__x0020_of_x0020_monthly...</td>\n",
       "      <td>CO</td>\n",
       "      <td>Monthly_x0020_household_x0020_income_x0020_at_...</td>\n",
       "      <td>_x0030_6001</td>\n",
       "      <td>Alameda</td>\n",
       "      <td>Bay_x0020_Area</td>\n",
       "      <td>_x0030_1</td>\n",
       "    </tr>\n",
       "    <tr>\n",
       "      <th>823</th>\n",
       "      <td>_x0031_06</td>\n",
       "      <td>Percent_x0020_of_x0020_households_x0020_spendi...</td>\n",
       "      <td>22.556391</td>\n",
       "      <td>_x003E__x0020_50_x0025__x0020_of_x0020_monthly...</td>\n",
       "      <td>CO</td>\n",
       "      <td>All_x0020_income_x0020_levels</td>\n",
       "      <td>_x0030_6001</td>\n",
       "      <td>Alameda</td>\n",
       "      <td>Bay_x0020_Area</td>\n",
       "      <td>_x0030_1</td>\n",
       "    </tr>\n",
       "    <tr>\n",
       "      <th>829</th>\n",
       "      <td>_x0031_06</td>\n",
       "      <td>Percent_x0020_of_x0020_households_x0020_spendi...</td>\n",
       "      <td>17.071468</td>\n",
       "      <td>_x003E__x0020_50_x0025__x0020_of_x0020_monthly...</td>\n",
       "      <td>CO</td>\n",
       "      <td>All_x0020_income_x0020_levels</td>\n",
       "      <td>_x0030_6001</td>\n",
       "      <td>Alameda</td>\n",
       "      <td>Bay_x0020_Area</td>\n",
       "      <td>_x0030_1</td>\n",
       "    </tr>\n",
       "    <tr>\n",
       "      <th>835</th>\n",
       "      <td>_x0031_06</td>\n",
       "      <td>Percent_x0020_of_x0020_households_x0020_spendi...</td>\n",
       "      <td>28.111467</td>\n",
       "      <td>_x003E__x0020_50_x0025__x0020_of_x0020_monthly...</td>\n",
       "      <td>CO</td>\n",
       "      <td>All_x0020_income_x0020_levels</td>\n",
       "      <td>_x0030_6001</td>\n",
       "      <td>Alameda</td>\n",
       "      <td>Bay_x0020_Area</td>\n",
       "      <td>_x0030_1</td>\n",
       "    </tr>\n",
       "    <tr>\n",
       "      <th>841</th>\n",
       "      <td>_x0031_06</td>\n",
       "      <td>Percent_x0020_of_x0020_households_x0020_spendi...</td>\n",
       "      <td>23.745072</td>\n",
       "      <td>_x003E__x0020_50_x0025__x0020_of_x0020_monthly...</td>\n",
       "      <td>CO</td>\n",
       "      <td>All_x0020_income_x0020_levels</td>\n",
       "      <td>_x0030_6001</td>\n",
       "      <td>Alameda</td>\n",
       "      <td>Bay_x0020_Area</td>\n",
       "      <td>_x0030_1</td>\n",
       "    </tr>\n",
       "    <tr>\n",
       "      <th>847</th>\n",
       "      <td>_x0031_06</td>\n",
       "      <td>Percent_x0020_of_x0020_households_x0020_spendi...</td>\n",
       "      <td>21.245421</td>\n",
       "      <td>_x003E__x0020_50_x0025__x0020_of_x0020_monthly...</td>\n",
       "      <td>CO</td>\n",
       "      <td>All_x0020_income_x0020_levels</td>\n",
       "      <td>_x0030_6001</td>\n",
       "      <td>Alameda</td>\n",
       "      <td>Bay_x0020_Area</td>\n",
       "      <td>_x0030_1</td>\n",
       "    </tr>\n",
       "    <tr>\n",
       "      <th>853</th>\n",
       "      <td>_x0031_06</td>\n",
       "      <td>Percent_x0020_of_x0020_households_x0020_spendi...</td>\n",
       "      <td>13.563874</td>\n",
       "      <td>_x003E__x0020_50_x0025__x0020_of_x0020_monthly...</td>\n",
       "      <td>CO</td>\n",
       "      <td>All_x0020_income_x0020_levels</td>\n",
       "      <td>_x0030_6001</td>\n",
       "      <td>Alameda</td>\n",
       "      <td>Bay_x0020_Area</td>\n",
       "      <td>_x0030_1</td>\n",
       "    </tr>\n",
       "    <tr>\n",
       "      <th>859</th>\n",
       "      <td>_x0031_06</td>\n",
       "      <td>Percent_x0020_of_x0020_households_x0020_spendi...</td>\n",
       "      <td>18.518519</td>\n",
       "      <td>_x003E__x0020_50_x0025__x0020_of_x0020_monthly...</td>\n",
       "      <td>CO</td>\n",
       "      <td>All_x0020_income_x0020_levels</td>\n",
       "      <td>_x0030_6001</td>\n",
       "      <td>Alameda</td>\n",
       "      <td>Bay_x0020_Area</td>\n",
       "      <td>_x0030_1</td>\n",
       "    </tr>\n",
       "    <tr>\n",
       "      <th>867</th>\n",
       "      <td>_x0031_06</td>\n",
       "      <td>Percent_x0020_of_x0020_households_x0020_spendi...</td>\n",
       "      <td>24.333333</td>\n",
       "      <td>_x003E__x0020_50_x0025__x0020_of_x0020_monthly...</td>\n",
       "      <td>CO</td>\n",
       "      <td>Monthly_x0020_household_x0020_income_x0020_at_...</td>\n",
       "      <td>_x0030_6003</td>\n",
       "      <td>Alpine</td>\n",
       "      <td>Central_x002F_Southeast_x0020_Sierra</td>\n",
       "      <td>_x0030_3</td>\n",
       "    </tr>\n",
       "    <tr>\n",
       "      <th>877</th>\n",
       "      <td>_x0031_06</td>\n",
       "      <td>Percent_x0020_of_x0020_households_x0020_spendi...</td>\n",
       "      <td>0.000000</td>\n",
       "      <td>_x003E__x0020_50_x0025__x0020_of_x0020_monthly...</td>\n",
       "      <td>CO</td>\n",
       "      <td>All_x0020_income_x0020_levels</td>\n",
       "      <td>_x0030_6003</td>\n",
       "      <td>Alpine</td>\n",
       "      <td>Central_x002F_Southeast_x0020_Sierra</td>\n",
       "      <td>_x0030_3</td>\n",
       "    </tr>\n",
       "  </tbody>\n",
       "</table>\n",
       "</div>"
      ],
      "text/plain": [
       "        ind_id                                     ind_definition    percent  \\\n",
       "813  _x0031_06  Percent_x0020_of_x0020_households_x0020_spendi...  17.217629   \n",
       "823  _x0031_06  Percent_x0020_of_x0020_households_x0020_spendi...  22.556391   \n",
       "829  _x0031_06  Percent_x0020_of_x0020_households_x0020_spendi...  17.071468   \n",
       "835  _x0031_06  Percent_x0020_of_x0020_households_x0020_spendi...  28.111467   \n",
       "841  _x0031_06  Percent_x0020_of_x0020_households_x0020_spendi...  23.745072   \n",
       "847  _x0031_06  Percent_x0020_of_x0020_households_x0020_spendi...  21.245421   \n",
       "853  _x0031_06  Percent_x0020_of_x0020_households_x0020_spendi...  13.563874   \n",
       "859  _x0031_06  Percent_x0020_of_x0020_households_x0020_spendi...  18.518519   \n",
       "867  _x0031_06  Percent_x0020_of_x0020_households_x0020_spendi...  24.333333   \n",
       "877  _x0031_06  Percent_x0020_of_x0020_households_x0020_spendi...   0.000000   \n",
       "\n",
       "                                                burden geotype  \\\n",
       "813  _x003E__x0020_50_x0025__x0020_of_x0020_monthly...      CO   \n",
       "823  _x003E__x0020_50_x0025__x0020_of_x0020_monthly...      CO   \n",
       "829  _x003E__x0020_50_x0025__x0020_of_x0020_monthly...      CO   \n",
       "835  _x003E__x0020_50_x0025__x0020_of_x0020_monthly...      CO   \n",
       "841  _x003E__x0020_50_x0025__x0020_of_x0020_monthly...      CO   \n",
       "847  _x003E__x0020_50_x0025__x0020_of_x0020_monthly...      CO   \n",
       "853  _x003E__x0020_50_x0025__x0020_of_x0020_monthly...      CO   \n",
       "859  _x003E__x0020_50_x0025__x0020_of_x0020_monthly...      CO   \n",
       "867  _x003E__x0020_50_x0025__x0020_of_x0020_monthly...      CO   \n",
       "877  _x003E__x0020_50_x0025__x0020_of_x0020_monthly...      CO   \n",
       "\n",
       "                                          income_level geotypevalue  geoname  \\\n",
       "813  Monthly_x0020_household_x0020_income_x0020_at_...  _x0030_6001  Alameda   \n",
       "823                      All_x0020_income_x0020_levels  _x0030_6001  Alameda   \n",
       "829                      All_x0020_income_x0020_levels  _x0030_6001  Alameda   \n",
       "835                      All_x0020_income_x0020_levels  _x0030_6001  Alameda   \n",
       "841                      All_x0020_income_x0020_levels  _x0030_6001  Alameda   \n",
       "847                      All_x0020_income_x0020_levels  _x0030_6001  Alameda   \n",
       "853                      All_x0020_income_x0020_levels  _x0030_6001  Alameda   \n",
       "859                      All_x0020_income_x0020_levels  _x0030_6001  Alameda   \n",
       "867  Monthly_x0020_household_x0020_income_x0020_at_...  _x0030_6003   Alpine   \n",
       "877                      All_x0020_income_x0020_levels  _x0030_6003   Alpine   \n",
       "\n",
       "                              region_name region_code  \n",
       "813                        Bay_x0020_Area    _x0030_1  \n",
       "823                        Bay_x0020_Area    _x0030_1  \n",
       "829                        Bay_x0020_Area    _x0030_1  \n",
       "835                        Bay_x0020_Area    _x0030_1  \n",
       "841                        Bay_x0020_Area    _x0030_1  \n",
       "847                        Bay_x0020_Area    _x0030_1  \n",
       "853                        Bay_x0020_Area    _x0030_1  \n",
       "859                        Bay_x0020_Area    _x0030_1  \n",
       "867  Central_x002F_Southeast_x0020_Sierra    _x0030_3  \n",
       "877  Central_x002F_Southeast_x0020_Sierra    _x0030_3  "
      ]
     },
     "execution_count": 11,
     "metadata": {},
     "output_type": "execute_result"
    }
   ],
   "source": [
    "#filter out NA values and filter income\n",
    "new_housing_df = new_housing_df.dropna()\n",
    "new_housing_df = new_housing_df[(new_housing_df['income_level'] == 'All_x0020_income_x0020_levels') \n",
    "                              | (new_housing_df['income_level'] == 'Monthly_x0020_household_x0020_income_x0020_at_x0020_all_x0020_levels_x0020_of_x0020_HUD-adjusted_x0020_family_x0020_median_x0020_income')]\n",
    "new_housing_df.head(10)"
   ]
  },
  {
   "cell_type": "code",
   "execution_count": 12,
   "metadata": {},
   "outputs": [
    {
     "ename": "TypeError",
     "evalue": "expected string or bytes-like object",
     "output_type": "error",
     "traceback": [
      "\u001b[1;31m---------------------------------------------------------------------------\u001b[0m",
      "\u001b[1;31mTypeError\u001b[0m                                 Traceback (most recent call last)",
      "Cell \u001b[1;32mIn[12], line 1\u001b[0m\n\u001b[1;32m----> 1\u001b[0m new_new_housing_df \u001b[38;5;241m=\u001b[39m \u001b[43mnew_housing_df\u001b[49m\u001b[38;5;241;43m.\u001b[39;49m\u001b[43mapplymap\u001b[49m\u001b[43m(\u001b[49m\u001b[43municode_to_symbols\u001b[49m\u001b[43m)\u001b[49m\n\u001b[0;32m      2\u001b[0m new_new_housing_df\n",
      "File \u001b[1;32m~\\anaconda3\\envs\\dsc80\\lib\\site-packages\\pandas\\core\\frame.py:9508\u001b[0m, in \u001b[0;36mDataFrame.applymap\u001b[1;34m(self, func, na_action, **kwargs)\u001b[0m\n\u001b[0;32m   9505\u001b[0m         \u001b[38;5;28;01mreturn\u001b[39;00m lib\u001b[38;5;241m.\u001b[39mmap_infer(x, func, ignore_na\u001b[38;5;241m=\u001b[39mignore_na)\n\u001b[0;32m   9506\u001b[0m     \u001b[38;5;28;01mreturn\u001b[39;00m lib\u001b[38;5;241m.\u001b[39mmap_infer(x\u001b[38;5;241m.\u001b[39mastype(\u001b[38;5;28mobject\u001b[39m)\u001b[38;5;241m.\u001b[39m_values, func, ignore_na\u001b[38;5;241m=\u001b[39mignore_na)\n\u001b[1;32m-> 9508\u001b[0m \u001b[38;5;28;01mreturn\u001b[39;00m \u001b[38;5;28;43mself\u001b[39;49m\u001b[38;5;241;43m.\u001b[39;49m\u001b[43mapply\u001b[49m\u001b[43m(\u001b[49m\u001b[43minfer\u001b[49m\u001b[43m)\u001b[49m\u001b[38;5;241m.\u001b[39m__finalize__(\u001b[38;5;28mself\u001b[39m, \u001b[38;5;124m\"\u001b[39m\u001b[38;5;124mapplymap\u001b[39m\u001b[38;5;124m\"\u001b[39m)\n",
      "File \u001b[1;32m~\\anaconda3\\envs\\dsc80\\lib\\site-packages\\pandas\\core\\frame.py:9423\u001b[0m, in \u001b[0;36mDataFrame.apply\u001b[1;34m(self, func, axis, raw, result_type, args, **kwargs)\u001b[0m\n\u001b[0;32m   9412\u001b[0m \u001b[38;5;28;01mfrom\u001b[39;00m \u001b[38;5;21;01mpandas\u001b[39;00m\u001b[38;5;21;01m.\u001b[39;00m\u001b[38;5;21;01mcore\u001b[39;00m\u001b[38;5;21;01m.\u001b[39;00m\u001b[38;5;21;01mapply\u001b[39;00m \u001b[38;5;28;01mimport\u001b[39;00m frame_apply\n\u001b[0;32m   9414\u001b[0m op \u001b[38;5;241m=\u001b[39m frame_apply(\n\u001b[0;32m   9415\u001b[0m     \u001b[38;5;28mself\u001b[39m,\n\u001b[0;32m   9416\u001b[0m     func\u001b[38;5;241m=\u001b[39mfunc,\n\u001b[1;32m   (...)\u001b[0m\n\u001b[0;32m   9421\u001b[0m     kwargs\u001b[38;5;241m=\u001b[39mkwargs,\n\u001b[0;32m   9422\u001b[0m )\n\u001b[1;32m-> 9423\u001b[0m \u001b[38;5;28;01mreturn\u001b[39;00m \u001b[43mop\u001b[49m\u001b[38;5;241;43m.\u001b[39;49m\u001b[43mapply\u001b[49m\u001b[43m(\u001b[49m\u001b[43m)\u001b[49m\u001b[38;5;241m.\u001b[39m__finalize__(\u001b[38;5;28mself\u001b[39m, method\u001b[38;5;241m=\u001b[39m\u001b[38;5;124m\"\u001b[39m\u001b[38;5;124mapply\u001b[39m\u001b[38;5;124m\"\u001b[39m)\n",
      "File \u001b[1;32m~\\anaconda3\\envs\\dsc80\\lib\\site-packages\\pandas\\core\\apply.py:678\u001b[0m, in \u001b[0;36mFrameApply.apply\u001b[1;34m(self)\u001b[0m\n\u001b[0;32m    675\u001b[0m \u001b[38;5;28;01melif\u001b[39;00m \u001b[38;5;28mself\u001b[39m\u001b[38;5;241m.\u001b[39mraw:\n\u001b[0;32m    676\u001b[0m     \u001b[38;5;28;01mreturn\u001b[39;00m \u001b[38;5;28mself\u001b[39m\u001b[38;5;241m.\u001b[39mapply_raw()\n\u001b[1;32m--> 678\u001b[0m \u001b[38;5;28;01mreturn\u001b[39;00m \u001b[38;5;28;43mself\u001b[39;49m\u001b[38;5;241;43m.\u001b[39;49m\u001b[43mapply_standard\u001b[49m\u001b[43m(\u001b[49m\u001b[43m)\u001b[49m\n",
      "File \u001b[1;32m~\\anaconda3\\envs\\dsc80\\lib\\site-packages\\pandas\\core\\apply.py:798\u001b[0m, in \u001b[0;36mFrameApply.apply_standard\u001b[1;34m(self)\u001b[0m\n\u001b[0;32m    797\u001b[0m \u001b[38;5;28;01mdef\u001b[39;00m \u001b[38;5;21mapply_standard\u001b[39m(\u001b[38;5;28mself\u001b[39m):\n\u001b[1;32m--> 798\u001b[0m     results, res_index \u001b[38;5;241m=\u001b[39m \u001b[38;5;28;43mself\u001b[39;49m\u001b[38;5;241;43m.\u001b[39;49m\u001b[43mapply_series_generator\u001b[49m\u001b[43m(\u001b[49m\u001b[43m)\u001b[49m\n\u001b[0;32m    800\u001b[0m     \u001b[38;5;66;03m# wrap results\u001b[39;00m\n\u001b[0;32m    801\u001b[0m     \u001b[38;5;28;01mreturn\u001b[39;00m \u001b[38;5;28mself\u001b[39m\u001b[38;5;241m.\u001b[39mwrap_results(results, res_index)\n",
      "File \u001b[1;32m~\\anaconda3\\envs\\dsc80\\lib\\site-packages\\pandas\\core\\apply.py:814\u001b[0m, in \u001b[0;36mFrameApply.apply_series_generator\u001b[1;34m(self)\u001b[0m\n\u001b[0;32m    811\u001b[0m \u001b[38;5;28;01mwith\u001b[39;00m option_context(\u001b[38;5;124m\"\u001b[39m\u001b[38;5;124mmode.chained_assignment\u001b[39m\u001b[38;5;124m\"\u001b[39m, \u001b[38;5;28;01mNone\u001b[39;00m):\n\u001b[0;32m    812\u001b[0m     \u001b[38;5;28;01mfor\u001b[39;00m i, v \u001b[38;5;129;01min\u001b[39;00m \u001b[38;5;28menumerate\u001b[39m(series_gen):\n\u001b[0;32m    813\u001b[0m         \u001b[38;5;66;03m# ignore SettingWithCopy here in case the user mutates\u001b[39;00m\n\u001b[1;32m--> 814\u001b[0m         results[i] \u001b[38;5;241m=\u001b[39m \u001b[38;5;28;43mself\u001b[39;49m\u001b[38;5;241;43m.\u001b[39;49m\u001b[43mf\u001b[49m\u001b[43m(\u001b[49m\u001b[43mv\u001b[49m\u001b[43m)\u001b[49m\n\u001b[0;32m    815\u001b[0m         \u001b[38;5;28;01mif\u001b[39;00m \u001b[38;5;28misinstance\u001b[39m(results[i], ABCSeries):\n\u001b[0;32m    816\u001b[0m             \u001b[38;5;66;03m# If we have a view on v, we need to make a copy because\u001b[39;00m\n\u001b[0;32m    817\u001b[0m             \u001b[38;5;66;03m#  series_generator will swap out the underlying data\u001b[39;00m\n\u001b[0;32m    818\u001b[0m             results[i] \u001b[38;5;241m=\u001b[39m results[i]\u001b[38;5;241m.\u001b[39mcopy(deep\u001b[38;5;241m=\u001b[39m\u001b[38;5;28;01mFalse\u001b[39;00m)\n",
      "File \u001b[1;32m~\\anaconda3\\envs\\dsc80\\lib\\site-packages\\pandas\\core\\frame.py:9506\u001b[0m, in \u001b[0;36mDataFrame.applymap.<locals>.infer\u001b[1;34m(x)\u001b[0m\n\u001b[0;32m   9504\u001b[0m \u001b[38;5;28;01mif\u001b[39;00m x\u001b[38;5;241m.\u001b[39mempty:\n\u001b[0;32m   9505\u001b[0m     \u001b[38;5;28;01mreturn\u001b[39;00m lib\u001b[38;5;241m.\u001b[39mmap_infer(x, func, ignore_na\u001b[38;5;241m=\u001b[39mignore_na)\n\u001b[1;32m-> 9506\u001b[0m \u001b[38;5;28;01mreturn\u001b[39;00m \u001b[43mlib\u001b[49m\u001b[38;5;241;43m.\u001b[39;49m\u001b[43mmap_infer\u001b[49m\u001b[43m(\u001b[49m\u001b[43mx\u001b[49m\u001b[38;5;241;43m.\u001b[39;49m\u001b[43mastype\u001b[49m\u001b[43m(\u001b[49m\u001b[38;5;28;43mobject\u001b[39;49m\u001b[43m)\u001b[49m\u001b[38;5;241;43m.\u001b[39;49m\u001b[43m_values\u001b[49m\u001b[43m,\u001b[49m\u001b[43m \u001b[49m\u001b[43mfunc\u001b[49m\u001b[43m,\u001b[49m\u001b[43m \u001b[49m\u001b[43mignore_na\u001b[49m\u001b[38;5;241;43m=\u001b[39;49m\u001b[43mignore_na\u001b[49m\u001b[43m)\u001b[49m\n",
      "File \u001b[1;32m~\\anaconda3\\envs\\dsc80\\lib\\site-packages\\pandas\\_libs\\lib.pyx:2834\u001b[0m, in \u001b[0;36mpandas._libs.lib.map_infer\u001b[1;34m()\u001b[0m\n",
      "Cell \u001b[1;32mIn[4], line 7\u001b[0m, in \u001b[0;36municode_to_symbols\u001b[1;34m(encoded_string)\u001b[0m\n\u001b[0;32m      5\u001b[0m     \u001b[38;5;28;01mreturn\u001b[39;00m \u001b[38;5;28mchr\u001b[39m(\u001b[38;5;28mint\u001b[39m(match\u001b[38;5;241m.\u001b[39mgroup(\u001b[38;5;241m1\u001b[39m), \u001b[38;5;241m16\u001b[39m))\n\u001b[0;32m      6\u001b[0m \u001b[38;5;66;03m# Replace all occurrences of encoded Unicode with their corresponding characters\u001b[39;00m\n\u001b[1;32m----> 7\u001b[0m \u001b[38;5;28;01mreturn\u001b[39;00m \u001b[43mpattern\u001b[49m\u001b[38;5;241;43m.\u001b[39;49m\u001b[43msub\u001b[49m\u001b[43m(\u001b[49m\u001b[43mreplace_with_char\u001b[49m\u001b[43m,\u001b[49m\u001b[43m \u001b[49m\u001b[43mencoded_string\u001b[49m\u001b[43m)\u001b[49m\n",
      "\u001b[1;31mTypeError\u001b[0m: expected string or bytes-like object"
     ]
    }
   ],
   "source": [
    "new_new_housing_df = new_housing_df.applymap(unicode_to_symbols)\n",
    "new_new_housing_df"
   ]
  },
  {
   "cell_type": "code",
   "execution_count": null,
   "metadata": {},
   "outputs": [],
   "source": [
    "#remove unnecessary columns\n",
    "new_education_df = education_df.get(['ind_id', 'ind_definition', 'estimate', 'geotype', 'geotypevalue', 'geoname','region_name', 'region_code'])"
   ]
  },
  {
   "cell_type": "code",
   "execution_count": null,
   "metadata": {},
   "outputs": [],
   "source": [
    "# drop NA from education\n",
    "new_education_df = new_education_df.dropna()\n",
    "new_education_df.head(10)"
   ]
  },
  {
   "cell_type": "code",
   "execution_count": null,
   "metadata": {},
   "outputs": [],
   "source": [
    "#export dataframes to excel files\n",
    "new_housing_df.to_excel('clean_housing.xlsx')\n",
    "new_education_df.to_excel('clean_education.xlsx')"
   ]
  },
  {
   "cell_type": "code",
   "execution_count": null,
   "metadata": {},
   "outputs": [],
   "source": [
    "def unicode_to_symbols(text):\n",
    "    unicode_literal_pattern = r'_u([0-9A-Fa-f]{4})'\n",
    "    \n",
    "    def replace_with_symbol(match):\n",
    "        # Convert the hexadecimal value to an integer, then to the corresponding character\n",
    "        return chr(int(match.group(1), 16))\n",
    "    \n",
    "    # Replace all occurrences of Unicode literals with their corresponding symbols\n",
    "    return re.sub(unicode_literal_pattern, replace_with_symbol, text)\n"
   ]
  },
  {
   "cell_type": "code",
   "execution_count": null,
   "metadata": {},
   "outputs": [],
   "source": []
  }
 ],
 "metadata": {
  "kernelspec": {
   "display_name": "Python 3 (ipykernel)",
   "language": "python",
   "name": "python3"
  },
  "language_info": {
   "codemirror_mode": {
    "name": "ipython",
    "version": 3
   },
   "file_extension": ".py",
   "mimetype": "text/x-python",
   "name": "python",
   "nbconvert_exporter": "python",
   "pygments_lexer": "ipython3",
   "version": "3.8.16"
  }
 },
 "nbformat": 4,
 "nbformat_minor": 2
}
