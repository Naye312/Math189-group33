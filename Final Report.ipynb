{
 "cells": [
  {
   "cell_type": "markdown",
   "metadata": {},
   "source": [
    "# Math 189 - Final Report"
   ]
  },
  {
   "cell_type": "markdown",
   "metadata": {},
   "source": [
    "## Names\n",
    "* Nyan Aye\n",
    "* Serena Xie\n",
    "* Angela Shen\n",
    "* Bofu Zou\n",
    "* Kyounghyun Sou"
   ]
  },
  {
   "cell_type": "markdown",
   "metadata": {},
   "source": [
    "#### Research Question\n",
    "Do household housing cost burdens in California predict educational attainment in Californian adults? "
   ]
  },
  {
   "cell_type": "markdown",
   "metadata": {},
   "source": [
    "#### Background\n",
    "Housing costs have always been a rising concern in California, especially in densely populated major cities such as Los Angeles and San Francisco. In fact, as the population grows and the housing supply is unable to keep up, California has become the third most expensive state to live in as of 2024.  As housing costs grow, households become more unlikely to spend on other matters, such as education, which will be the main focus of our study. The goal of our study is to find out if we can draw a correlation between the percentage monthly household income paid towards housing costs versus the percentage of adults in an area pursuing a 4-year college degree or higher. In broader strokes, we hope that finding said correlation would display the importance of housing issues by showing such issues can alleviate other issues, starting with education, in California. "
   ]
  },
  {
   "cell_type": "markdown",
   "metadata": {},
   "source": [
    "#### Hypothesis\n",
    "There exists a correlation between the percentage of households with ‘high’ household burden (30% of household income goes towards housing) and the percentage of individuals in the area pursuing a 4-year college degree or higher within the same area."
   ]
  },
  {
   "cell_type": "markdown",
   "metadata": {},
   "source": [
    "#### Data\n",
    "We found two datasets for this project from the data provided by the California government. The first one is about [California housing cost burdens](https://data.ca.gov/dataset/housing-cost-burden), with a focus on the variables percentage of income burden in household, county and region. The second dataset should be the [educational attainment dataset](https://data.ca.gov/dataset/educational-attainment), with variables county, region, and estimated percentage of educational attainment in region. Each dataset should have at least 1000 observations to be able to draw accurate estimations, with the housing cost burdens dataset utilizing a sample size of 521,264 and education attainment dataset utilizing a sample size of 166,662. We want to draw a present correlation between housing cost and education from previous historical trends, so both datasets will have a temporal coverage of 2006-2010. "
   ]
  },
  {
   "cell_type": "markdown",
   "metadata": {},
   "source": [
    "### Data Cleaning\n",
    "To make our data useable, we cleaned the data based on our needs. For the educational attainment dataset, we removed the first few rows that aggregate education level by race, since this is not relevant to our goals. For the housing burden dataset, we only kept observations classified under “50% of monthly income…” and “all income levels/monthly income at all levels…income”. We also removed some columns from the table and only kept relevant data such as estimates since the dataset is too large. Afterwards, each person responsible for EDA and testing will further modify the clean data to their own needs, usually to find the mean estimates of each county for the datasets, leaving us with 58 observations."
   ]
  },
  {
   "cell_type": "code",
   "execution_count": 3,
   "metadata": {},
   "outputs": [],
   "source": [
    "import pandas as pd\n",
    "import numpy as np\n",
    "import re\n",
    "\n",
    "def unicode_to_symbols(encoded_string):\n",
    "    pattern = re.compile(r'_x([0-9A-Fa-f]{4})_')\n",
    "    def replace_with_char(match):\n",
    "        # Convert the hexadecimal value to an integer, then to the corresponding Unicode character\n",
    "        return chr(int(match.group(1), 16))\n",
    "    # Replace all occurrences of encoded Unicode with their corresponding characters\n",
    "    return pattern.sub(replace_with_char, encoded_string)\n",
    "\n",
    "housing_df = pd.read_excel('housing.xlsx')\n",
    "education_df = pd.read_excel('education.xlsx')"
   ]
  },
  {
   "cell_type": "code",
   "execution_count": 4,
   "metadata": {},
   "outputs": [
    {
     "name": "stderr",
     "output_type": "stream",
     "text": [
      "C:\\Users\\nyanl\\AppData\\Local\\Temp\\ipykernel_30812\\2626337546.py:12: FutureWarning: DataFrame.applymap has been deprecated. Use DataFrame.map instead.\n",
      "  new_housing_df = new_housing_df.applymap(lambda x: unicode_to_symbols(x) if isinstance(x, str) else x)\n"
     ]
    }
   ],
   "source": [
    "education_df.head()\n",
    "# filter down the columns into what we need\n",
    "new_housing_df = housing_df.get(['ind_id', 'ind_definition','percent','burden', 'geotype', 'income_level','geotypevalue', 'geoname', 'region_name','region_code','county_fips'])\n",
    "\n",
    "# filter to include only >50% burden\n",
    "new_housing_df = new_housing_df[(new_housing_df['burden'] == '_x003E__x0020_50_x0025__x0020_of_x0020_monthly_x0020_household_x0020_income_x0020_consumed_x0020_by_x0020_monthly_x002C__x0020_selected_x002C__x0020_housing_x0020_costs')]\n",
    "\n",
    "# filter out NA values and filter income\n",
    "new_housing_df = new_housing_df.dropna()\n",
    "new_housing_df = new_housing_df[(new_housing_df['income_level'] == 'All_x0020_income_x0020_levels') \n",
    "                              | (new_housing_df['income_level'] == 'Monthly_x0020_household_x0020_income_x0020_at_x0020_all_x0020_levels_x0020_of_x0020_HUD-adjusted_x0020_family_x0020_median_x0020_income')]\n",
    "new_housing_df = new_housing_df.applymap(lambda x: unicode_to_symbols(x) if isinstance(x, str) else x)\n",
    "\n",
    "# remove unnecessary columns from education.xlsx\n",
    "new_education_df = education_df.get(['ind_id', 'ind_definition', 'estimate', 'geotype', 'geotypevalue', 'geoname','region_name', 'region_code', 'county_fips']).dropna()\n",
    "\n",
    "new_housing_df.to_excel('clean_housing.xlsx')\n",
    "new_education_df.to_excel('clean_education.xlsx')"
   ]
  },
  {
   "cell_type": "code",
   "execution_count": 8,
   "metadata": {},
   "outputs": [
    {
     "data": {
      "text/html": [
       "<div>\n",
       "<style scoped>\n",
       "    .dataframe tbody tr th:only-of-type {\n",
       "        vertical-align: middle;\n",
       "    }\n",
       "\n",
       "    .dataframe tbody tr th {\n",
       "        vertical-align: top;\n",
       "    }\n",
       "\n",
       "    .dataframe thead th {\n",
       "        text-align: right;\n",
       "    }\n",
       "</style>\n",
       "<table border=\"1\" class=\"dataframe\">\n",
       "  <thead>\n",
       "    <tr style=\"text-align: right;\">\n",
       "      <th></th>\n",
       "      <th>ind_id</th>\n",
       "      <th>ind_definition</th>\n",
       "      <th>percent</th>\n",
       "      <th>burden</th>\n",
       "      <th>geotype</th>\n",
       "      <th>income_level</th>\n",
       "      <th>geotypevalue</th>\n",
       "      <th>geoname</th>\n",
       "      <th>region_name</th>\n",
       "      <th>region_code</th>\n",
       "      <th>county_fips</th>\n",
       "    </tr>\n",
       "  </thead>\n",
       "  <tbody>\n",
       "    <tr>\n",
       "      <th>813</th>\n",
       "      <td>106</td>\n",
       "      <td>Percent of households spending more than 30% (...</td>\n",
       "      <td>17.217629</td>\n",
       "      <td>&gt; 50% of monthly household income consumed by ...</td>\n",
       "      <td>CO</td>\n",
       "      <td>Monthly household income at all levels of HUD-...</td>\n",
       "      <td>06001</td>\n",
       "      <td>Alameda</td>\n",
       "      <td>Bay Area</td>\n",
       "      <td>01</td>\n",
       "      <td>06001</td>\n",
       "    </tr>\n",
       "    <tr>\n",
       "      <th>823</th>\n",
       "      <td>106</td>\n",
       "      <td>Percent of households spending more than 30% (...</td>\n",
       "      <td>22.556391</td>\n",
       "      <td>&gt; 50% of monthly household income consumed by ...</td>\n",
       "      <td>CO</td>\n",
       "      <td>All income levels</td>\n",
       "      <td>06001</td>\n",
       "      <td>Alameda</td>\n",
       "      <td>Bay Area</td>\n",
       "      <td>01</td>\n",
       "      <td>06001</td>\n",
       "    </tr>\n",
       "    <tr>\n",
       "      <th>829</th>\n",
       "      <td>106</td>\n",
       "      <td>Percent of households spending more than 30% (...</td>\n",
       "      <td>17.071468</td>\n",
       "      <td>&gt; 50% of monthly household income consumed by ...</td>\n",
       "      <td>CO</td>\n",
       "      <td>All income levels</td>\n",
       "      <td>06001</td>\n",
       "      <td>Alameda</td>\n",
       "      <td>Bay Area</td>\n",
       "      <td>01</td>\n",
       "      <td>06001</td>\n",
       "    </tr>\n",
       "    <tr>\n",
       "      <th>835</th>\n",
       "      <td>106</td>\n",
       "      <td>Percent of households spending more than 30% (...</td>\n",
       "      <td>28.111467</td>\n",
       "      <td>&gt; 50% of monthly household income consumed by ...</td>\n",
       "      <td>CO</td>\n",
       "      <td>All income levels</td>\n",
       "      <td>06001</td>\n",
       "      <td>Alameda</td>\n",
       "      <td>Bay Area</td>\n",
       "      <td>01</td>\n",
       "      <td>06001</td>\n",
       "    </tr>\n",
       "    <tr>\n",
       "      <th>841</th>\n",
       "      <td>106</td>\n",
       "      <td>Percent of households spending more than 30% (...</td>\n",
       "      <td>23.745072</td>\n",
       "      <td>&gt; 50% of monthly household income consumed by ...</td>\n",
       "      <td>CO</td>\n",
       "      <td>All income levels</td>\n",
       "      <td>06001</td>\n",
       "      <td>Alameda</td>\n",
       "      <td>Bay Area</td>\n",
       "      <td>01</td>\n",
       "      <td>06001</td>\n",
       "    </tr>\n",
       "  </tbody>\n",
       "</table>\n",
       "</div>"
      ],
      "text/plain": [
       "    ind_id                                     ind_definition    percent  \\\n",
       "813    106  Percent of households spending more than 30% (...  17.217629   \n",
       "823    106  Percent of households spending more than 30% (...  22.556391   \n",
       "829    106  Percent of households spending more than 30% (...  17.071468   \n",
       "835    106  Percent of households spending more than 30% (...  28.111467   \n",
       "841    106  Percent of households spending more than 30% (...  23.745072   \n",
       "\n",
       "                                                burden geotype  \\\n",
       "813  > 50% of monthly household income consumed by ...      CO   \n",
       "823  > 50% of monthly household income consumed by ...      CO   \n",
       "829  > 50% of monthly household income consumed by ...      CO   \n",
       "835  > 50% of monthly household income consumed by ...      CO   \n",
       "841  > 50% of monthly household income consumed by ...      CO   \n",
       "\n",
       "                                          income_level geotypevalue  geoname  \\\n",
       "813  Monthly household income at all levels of HUD-...        06001  Alameda   \n",
       "823                                  All income levels        06001  Alameda   \n",
       "829                                  All income levels        06001  Alameda   \n",
       "835                                  All income levels        06001  Alameda   \n",
       "841                                  All income levels        06001  Alameda   \n",
       "\n",
       "    region_name region_code county_fips  \n",
       "813    Bay Area          01       06001  \n",
       "823    Bay Area          01       06001  \n",
       "829    Bay Area          01       06001  \n",
       "835    Bay Area          01       06001  \n",
       "841    Bay Area          01       06001  "
      ]
     },
     "execution_count": 8,
     "metadata": {},
     "output_type": "execute_result"
    }
   ],
   "source": [
    "new_housing_df.head(5)"
   ]
  },
  {
   "cell_type": "code",
   "execution_count": 11,
   "metadata": {},
   "outputs": [
    {
     "data": {
      "text/html": [
       "<div>\n",
       "<style scoped>\n",
       "    .dataframe tbody tr th:only-of-type {\n",
       "        vertical-align: middle;\n",
       "    }\n",
       "\n",
       "    .dataframe tbody tr th {\n",
       "        vertical-align: top;\n",
       "    }\n",
       "\n",
       "    .dataframe thead th {\n",
       "        text-align: right;\n",
       "    }\n",
       "</style>\n",
       "<table border=\"1\" class=\"dataframe\">\n",
       "  <thead>\n",
       "    <tr style=\"text-align: right;\">\n",
       "      <th></th>\n",
       "      <th>ind_id</th>\n",
       "      <th>ind_definition</th>\n",
       "      <th>estimate</th>\n",
       "      <th>geotype</th>\n",
       "      <th>geotypevalue</th>\n",
       "      <th>geoname</th>\n",
       "      <th>region_name</th>\n",
       "      <th>region_code</th>\n",
       "      <th>county_fips</th>\n",
       "    </tr>\n",
       "  </thead>\n",
       "  <tbody>\n",
       "    <tr>\n",
       "      <th>9</th>\n",
       "      <td>355</td>\n",
       "      <td>Percent of population age 25 and up with a fou...</td>\n",
       "      <td>21.1</td>\n",
       "      <td>CD</td>\n",
       "      <td>607192260</td>\n",
       "      <td>Ontario CCD</td>\n",
       "      <td>Southern California</td>\n",
       "      <td>14.0</td>\n",
       "      <td>6071.0</td>\n",
       "    </tr>\n",
       "    <tr>\n",
       "      <th>10</th>\n",
       "      <td>355</td>\n",
       "      <td>Percent of population age 25 and up with a fou...</td>\n",
       "      <td>0.1</td>\n",
       "      <td>CD</td>\n",
       "      <td>603593280</td>\n",
       "      <td>Susanville CCD</td>\n",
       "      <td>Northeast Sierra</td>\n",
       "      <td>6.0</td>\n",
       "      <td>6035.0</td>\n",
       "    </tr>\n",
       "    <tr>\n",
       "      <th>11</th>\n",
       "      <td>355</td>\n",
       "      <td>Percent of population age 25 and up with a fou...</td>\n",
       "      <td>17.0</td>\n",
       "      <td>CD</td>\n",
       "      <td>607192100</td>\n",
       "      <td>Newberry-Baker CCD</td>\n",
       "      <td>Southern California</td>\n",
       "      <td>14.0</td>\n",
       "      <td>6071.0</td>\n",
       "    </tr>\n",
       "    <tr>\n",
       "      <th>12</th>\n",
       "      <td>355</td>\n",
       "      <td>Percent of population age 25 and up with a fou...</td>\n",
       "      <td>19.9</td>\n",
       "      <td>CD</td>\n",
       "      <td>609792940</td>\n",
       "      <td>Santa Rosa CCD</td>\n",
       "      <td>Bay Area</td>\n",
       "      <td>1.0</td>\n",
       "      <td>6097.0</td>\n",
       "    </tr>\n",
       "    <tr>\n",
       "      <th>13</th>\n",
       "      <td>355</td>\n",
       "      <td>Percent of population age 25 and up with a fou...</td>\n",
       "      <td>28.3</td>\n",
       "      <td>CD</td>\n",
       "      <td>600190020</td>\n",
       "      <td>Alameda CCD</td>\n",
       "      <td>Bay Area</td>\n",
       "      <td>1.0</td>\n",
       "      <td>6001.0</td>\n",
       "    </tr>\n",
       "  </tbody>\n",
       "</table>\n",
       "</div>"
      ],
      "text/plain": [
       "    ind_id                                     ind_definition  estimate  \\\n",
       "9      355  Percent of population age 25 and up with a fou...      21.1   \n",
       "10     355  Percent of population age 25 and up with a fou...       0.1   \n",
       "11     355  Percent of population age 25 and up with a fou...      17.0   \n",
       "12     355  Percent of population age 25 and up with a fou...      19.9   \n",
       "13     355  Percent of population age 25 and up with a fou...      28.3   \n",
       "\n",
       "   geotype  geotypevalue             geoname          region_name  \\\n",
       "9       CD     607192260         Ontario CCD  Southern California   \n",
       "10      CD     603593280      Susanville CCD     Northeast Sierra   \n",
       "11      CD     607192100  Newberry-Baker CCD  Southern California   \n",
       "12      CD     609792940      Santa Rosa CCD             Bay Area   \n",
       "13      CD     600190020         Alameda CCD             Bay Area   \n",
       "\n",
       "    region_code  county_fips  \n",
       "9          14.0       6071.0  \n",
       "10          6.0       6035.0  \n",
       "11         14.0       6071.0  \n",
       "12          1.0       6097.0  \n",
       "13          1.0       6001.0  "
      ]
     },
     "execution_count": 11,
     "metadata": {},
     "output_type": "execute_result"
    }
   ],
   "source": [
    "new_education_df.head(5)"
   ]
  },
  {
   "cell_type": "markdown",
   "metadata": {},
   "source": [
    "#### Exploratory Data Analysis\n",
    "* Side-by-side choropleth map of housing burden and education attainment will show how to \n",
    "distribution of the two datasets look in California when viewed side by side\n",
    "* We’ll also use a heat map to communicate relationships between the variables.\n",
    "* Ordinary Least Squares Regression will be used to conduct a linear regression to find the \n",
    "relation between average percentage of high housing burden and average secondary\r\n",
    "education attainment per county. Will also include a scatterplot as visualization to show \r\n",
    "what the correlation looks like. s like."
   ]
  },
  {
   "cell_type": "markdown",
   "metadata": {},
   "source": [
    "#### Hypothesis Test"
   ]
  },
  {
   "cell_type": "code",
   "execution_count": null,
   "metadata": {},
   "outputs": [],
   "source": []
  }
 ],
 "metadata": {
  "kernelspec": {
   "display_name": "Python 3 (ipykernel)",
   "language": "python",
   "name": "python3"
  },
  "language_info": {
   "codemirror_mode": {
    "name": "ipython",
    "version": 3
   },
   "file_extension": ".py",
   "mimetype": "text/x-python",
   "name": "python",
   "nbconvert_exporter": "python",
   "pygments_lexer": "ipython3",
   "version": "3.11.5"
  }
 },
 "nbformat": 4,
 "nbformat_minor": 4
}
